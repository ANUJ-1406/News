{
 "cells": [
  {
   "cell_type": "markdown",
   "metadata": {},
   "source": [
    "<i>Copyright (c) Microsoft Corporation. All rights reserved.</i>\n",
    "\n",
    "<i>Licensed under the MIT License.</i>"
   ]
  },
  {
   "cell_type": "markdown",
   "metadata": {},
   "source": [
    "# DKN : Deep Knowledge-Aware Network for News Recommendation\n",
    "\n",
    "DKN \\[1\\] is a deep learning model which incorporates information from knowledge graph for better news recommendation. Specifically, DKN uses TransX \\[2\\] method for knowledge graph representation learning, then applies a CNN framework, named KCNN, to combine entity embedding with word embedding and generate a final embedding vector for a news article. CTR prediction is made via an attention-based neural scorer. \n",
    "\n",
    "## Properties of DKN:\n",
    "\n",
    "- DKN is a content-based deep model for CTR prediction rather than traditional ID-based collaborative filtering. \n",
    "- It makes use of knowledge entities and common sense in news content via joint learning from semantic-level and knowledge-level representations of news articles.\n",
    "- DKN uses an attention module to dynamically calculate a user's aggregated historical representaition.\n",
    "\n",
    "\n",
    "## Data format\n",
    "\n",
    "DKN takes several files as input as follows:\n",
    "\n",
    "- **training / validation / test files**: each line in these files represents one instance. Impressionid is used to evaluate performance within an impression session, so it is only used when evaluating, you can set it to 0 for training data. The format is : <br> \n",
    "`[label] [userid] [CandidateNews]%[impressionid] `<br> \n",
    "e.g., `1 train_U1 N1%0` <br> \n",
    "\n",
    "- **user history file**: each line in this file represents a users' click history. You need to set `history_size` parameter in the config file, which is the max number of user's click history we use. We will automatically keep the last `history_size` number of user click history, if user's click history is more than `history_size`, and we will automatically pad with 0 if user's click history is less than `history_size`. the format is : <br> \n",
    "`[Userid] [newsid1,newsid2...]`<br>\n",
    "e.g., `train_U1 N1,N2` <br> \n",
    "\n",
    "- **document feature file**: It contains the word and entity features for news articles. News articles are represented by aligned title words and title entities. To take a quick example, a news title may be: <i>\"Trump to deliver State of the Union address next week\"</i>, then the title words value may be `CandidateNews:34,45,334,23,12,987,3456,111,456,432` and the title entitie value may be: `entity:45,0,0,0,0,0,0,0,0,0`. Only the first value of entity vector is non-zero due to the word \"Trump\". The title value and entity value is hashed from 1 to `n` (where `n` is the number of distinct words or entities). Each feature length should be fixed at k (`doc_size` parameter), if the number of words in document is more than k, you should truncate the document to k words, and if the number of words in document is less than k, you should pad 0 to the end. \n",
    "the format is like: <br> \n",
    "`[Newsid] [w1,w2,w3...wk] [e1,e2,e3...ek]`\n",
    "\n",
    "- **word embedding/entity embedding/ context embedding files**: These are `*.npy` files of pretrained embeddings. After loading, each file is a `[n+1,k]` two-dimensional matrix, n is the number of words(or entities) of their hash dictionary, k is dimension of the embedding, note that we keep embedding 0 for zero padding. \n",
    "\n",
    "In this experiment, we used GloVe\\[4\\] vectors to initialize the word embedding. We trained entity embedding using TransE\\[2\\] on knowledge graph and context embedding is the average of the entity's neighbors in the knowledge graph.<br>\n",
    "\n",
    "## MIND dataset\n",
    "\n",
    "MIND dataset\\[3\\] is a large-scale English news dataset. It was collected from anonymized behavior logs of Microsoft News website. MIND contains 1,000,000 users, 161,013 news articles and 15,777,377 impression logs. Every news article contains rich textual content including title, abstract, body, category and entities. Each impression log contains the click events, non-clicked events and historical news click behaviors of this user before this impression.\n",
    "\n",
    "A smaller version, [MIND-small](https://azure.microsoft.com/en-us/services/open-datasets/catalog/microsoft-news-dataset/), is a small version of the MIND dataset by randomly sampling 50,000 users and their behavior logs from the MIND dataset.\n",
    "\n",
    "The datasets contains these files for both training and validation data:\n",
    "\n",
    "#### behaviors.tsv\n",
    "\n",
    "The behaviors.tsv file contains the impression logs and users' news click hostories. It has 5 columns divided by the tab symbol:\n",
    "\n",
    "+ Impression ID. The ID of an impression.\n",
    "+ User ID. The anonymous ID of a user.\n",
    "+ Time. The impression time with format \"MM/DD/YYYY HH:MM:SS AM/PM\".\n",
    "+ History. The news click history (ID list of clicked news) of this user before this impression.\n",
    "+ Impressions. List of news displayed in this impression and user's click behaviors on them (1 for click and 0 for non-click).\n",
    "\n",
    "One simple example: \n",
    "\n",
    "`1    U82271    11/11/2019 3:28:58 PM    N3130 N11621 N12917 N4574 N12140 N9748    N13390-0 N7180-0 N20785-0 N6937-0 N15776-0 N25810-0 N20820-0 N6885-0 N27294-0 N18835-0 N16945-0 N7410-0 N23967-0 N22679-0 N20532-0 N26651-0 N22078-0 N4098-0 N16473-0 N13841-0 N15660-0 N25787-0 N2315-0 N1615-0 N9087-0 N23880-0 N3600-0 N24479-0 N22882-0 N26308-0 N13594-0 N2220-0 N28356-0 N17083-0 N21415-0 N18671-0 N9440-0 N17759-0 N10861-0 N21830-0 N8064-0 N5675-0 N15037-0 N26154-0 N15368-1 N481-0 N3256-0 N20663-0 N23940-0 N7654-0 N10729-0 N7090-0 N23596-0 N15901-0 N16348-0 N13645-0 N8124-0 N20094-0 N27774-0 N23011-0 N14832-0 N15971-0 N27729-0 N2167-0 N11186-0 N18390-0 N21328-0 N10992-0 N20122-0 N1958-0 N2004-0 N26156-0 N17632-0 N26146-0 N17322-0 N18403-0 N17397-0 N18215-0 N14475-0 N9781-0 N17958-0 N3370-0 N1127-0 N15525-0 N12657-0 N10537-0 N18224-0 `\n",
    "\n",
    "#### news.tsv\n",
    "\n",
    "The news.tsv file contains the detailed information of news articles involved in the behaviors.tsv file. It has 7 columns, which are divided by the tab symbol:\n",
    "\n",
    "+ News ID\n",
    "+ Category\n",
    "+ SubCategory\n",
    "+ Title\n",
    "+ Abstract\n",
    "+ URL\n",
    "+ Title Entities (entities contained in the title of this news)\n",
    "+ Abstract Entities (entites contained in the abstract of this news)\n",
    "\n",
    "One simple example: \n",
    "\n",
    "`N46466    lifestyle    lifestyleroyals    The Brands Queen Elizabeth, Prince Charles, and Prince Philip Swear By    Shop the notebooks, jackets, and more that the royals can't live without.    https://www.msn.com/en-us/lifestyle/lifestyleroyals/the-brands-queen-elizabeth,-prince-charles,-and-prince-philip-swear-by/ss-AAGH0ET?ocid=chopendata    [{\"Label\": \"Prince Philip, Duke of Edinburgh\", \"Type\": \"P\", \"WikidataId\": \"Q80976\", \"Confidence\": 1.0, \"OccurrenceOffsets\": [48], \"SurfaceForms\": [\"Prince Philip\"]}, {\"Label\": \"Charles, Prince of Wales\", \"Type\": \"P\", \"WikidataId\": \"Q43274\", \"Confidence\": 1.0, \"OccurrenceOffsets\": [28], \"SurfaceForms\": [\"Prince Charles\"]}, {\"Label\": \"Elizabeth II\", \"Type\": \"P\", \"WikidataId\": \"Q9682\", \"Confidence\": 0.97, \"OccurrenceOffsets\": [11], \"SurfaceForms\": [\"Queen Elizabeth\"]}]    [] `\n",
    "\n",
    "#### entity_embedding.vec & relation_embedding.vec\n",
    "\n",
    "The entity_embedding.vec and relation_embedding.vec files contain the 100-dimensional embeddings of the entities and relations learned from the subgraph (from WikiData knowledge graph) by TransE method. In both files, the first column is the ID of entity/relation, and the other columns are the embedding vector values.\n",
    "\n",
    "One simple example: \n",
    "\n",
    "`Q42306013  0.014516 -0.106958 0.024590 ... -0.080382`\n",
    "\n",
    "\n",
    "## DKN architecture\n",
    "\n",
    "The following figure shows the architecture of DKN.\n",
    "\n",
    "![](https://recodatasets.z20.web.core.windows.net/images/dkn_architecture.png)\n",
    "\n",
    "DKN takes one piece of candidate news and one piece of a user’s clicked news as input. For each piece of news, a specially designed KCNN is used to process its title and generate an embedding vector. KCNN is an extension of traditional CNN that allows flexibility in incorporating symbolic knowledge from a knowledge graph into sentence representation learning. \n",
    "\n",
    "With the KCNN, we obtain a set of embedding vectors for a user’s clicked history. To get final embedding of the user with\n",
    "respect to the current candidate news, we use an attention-based method to automatically match the candidate news to each piece\n",
    "of his clicked news, and aggregate the user’s historical interests with different weights. The candidate news embedding and the user embedding are concatenated and fed into a deep neural network (DNN) to calculate the predicted probability that the user will click the candidate news."
   ]
  },
  {
   "cell_type": "markdown",
   "metadata": {},
   "source": [
    "## Global settings and imports"
   ]
  },
  {
   "cell_type": "code",
   "execution_count": null,
   "metadata": {},
   "outputs": [],
   "source": []
  },
  {
   "cell_type": "code",
   "execution_count": 2,
   "metadata": {},
   "outputs": [
    {
     "name": "stdout",
     "output_type": "stream",
     "text": [
      "Python version: 3.11.9 (main, Apr 17 2025, 20:47:49) [Clang 17.0.0 (clang-1700.0.13.3)]\n",
      "TensorFlow version: 2.15.1\n"
     ]
    }
   ],
   "source": [
    "# Basic environment setup\n",
    "import os\n",
    "import sys\n",
    "import zipfile\n",
    "import shutil\n",
    "import json\n",
    "import numpy as np\n",
    "import pandas as pd\n",
    "import tensorflow as tf\n",
    "\n",
    "# Set paths\n",
    "BASE_DIR = os.getcwd()\n",
    "DATA_DIR = os.path.join(BASE_DIR, \"mind-dkn\")\n",
    "\n",
    "# Confirm TensorFlow version\n",
    "print(\"Python version:\", sys.version)\n",
    "print(\"TensorFlow version:\", tf.__version__)\n"
   ]
  },
  {
   "cell_type": "code",
   "execution_count": 3,
   "metadata": {},
   "outputs": [
    {
     "name": "stdout",
     "output_type": "stream",
     "text": [
      "News samples:\n",
      "   NewsID   Category      SubCategory  \\\n",
      "0  N55528  lifestyle  lifestyleroyals   \n",
      "1  N19639     health       weightloss   \n",
      "\n",
      "                                               Title  \\\n",
      "0  The Brands Queen Elizabeth, Prince Charles, an...   \n",
      "1                      50 Worst Habits For Belly Fat   \n",
      "\n",
      "                                            Abstract  \\\n",
      "0  Shop the notebooks, jackets, and more that the...   \n",
      "1  These seemingly harmless habits are holding yo...   \n",
      "\n",
      "                                             URL  \\\n",
      "0  https://assets.msn.com/labs/mind/AAGH0ET.html   \n",
      "1  https://assets.msn.com/labs/mind/AAB19MK.html   \n",
      "\n",
      "                                       TitleEntities  \\\n",
      "0  [{\"Label\": \"Prince Philip, Duke of Edinburgh\",...   \n",
      "1  [{\"Label\": \"Adipose tissue\", \"Type\": \"C\", \"Wik...   \n",
      "\n",
      "                                    AbstractEntities  \n",
      "0                                                 []  \n",
      "1  [{\"Label\": \"Adipose tissue\", \"Type\": \"C\", \"Wik...  \n",
      "\n",
      "Behaviors samples:\n",
      "   ImpressionID  UserID                   Time  \\\n",
      "0             1  U13740  11/11/2019 9:05:58 AM   \n",
      "1             2  U91836  11/12/2019 6:11:30 PM   \n",
      "\n",
      "                                             History  \\\n",
      "0  N55189 N42782 N34694 N45794 N18445 N63302 N104...   \n",
      "1  N31739 N6072 N63045 N23979 N35656 N43353 N8129...   \n",
      "\n",
      "                                         Impressions  \n",
      "0                                  N55689-1 N35729-0  \n",
      "1  N20678-0 N39317-0 N58114-0 N20495-0 N42977-0 N...  \n"
     ]
    }
   ],
   "source": [
    "# Paths to your local MIND dataset\n",
    "NEWS_PATH = \"/Users/anuj/Downloads/MINDsmall_train/news.tsv\"\n",
    "BEHAVIORS_PATH = \"/Users/anuj/Downloads/MINDsmall_train/behaviors.tsv\"\n",
    "\n",
    "# Load news data\n",
    "news_df = pd.read_csv(NEWS_PATH, sep='\\t', header=None,\n",
    "                      names=['NewsID', 'Category', 'SubCategory', 'Title', 'Abstract', 'URL', 'TitleEntities', 'AbstractEntities'])\n",
    "\n",
    "# Load behaviors data\n",
    "behaviors_df = pd.read_csv(BEHAVIORS_PATH, sep='\\t', header=None,\n",
    "                           names=['ImpressionID', 'UserID', 'Time', 'History', 'Impressions'])\n",
    "\n",
    "# Preview\n",
    "print(\"News samples:\")\n",
    "print(news_df.head(2))\n",
    "print(\"\\nBehaviors samples:\")\n",
    "print(behaviors_df.head(2))\n"
   ]
  },
  {
   "cell_type": "code",
   "execution_count": 4,
   "metadata": {
    "tags": [
     "parameters"
    ]
   },
   "outputs": [
    {
     "name": "stdout",
     "output_type": "stream",
     "text": [
      "Total training samples: 5843444\n",
      "Example sample (history, candidate, label):\n",
      "(['N55189', 'N42782', 'N34694', 'N45794', 'N18445', 'N63302', 'N10414', 'N19347', 'N31801'], 'N55689', 1)\n"
     ]
    }
   ],
   "source": [
    "def generate_training_data(behaviors_df):\n",
    "    data = []\n",
    "\n",
    "    for _, row in behaviors_df.iterrows():\n",
    "        history = row['History']\n",
    "        history_list = history.split() if isinstance(history, str) else []\n",
    "\n",
    "        impressions = row['Impressions'].split()\n",
    "        for imp in impressions:\n",
    "            if '-' not in imp:\n",
    "                continue\n",
    "            news_id, label = imp.split('-')\n",
    "            label = int(label)\n",
    "            data.append((history_list, news_id, label))\n",
    "\n",
    "    return data\n",
    "\n",
    "# Generate training samples\n",
    "training_samples = generate_training_data(behaviors_df)\n",
    "print(f\"Total training samples: {len(training_samples)}\")\n",
    "print(\"Example sample (history, candidate, label):\")\n",
    "print(training_samples[0])\n"
   ]
  },
  {
   "cell_type": "markdown",
   "metadata": {},
   "source": [
    "## Data preparation\n",
    "\n",
    "In this example, let's go through a real case on how to apply DKN on a raw news dataset from the very beginning. We will download a copy of open-source MIND dataset, in its original raw format. Then we will process the raw data files into DKN's input data format, which is stated previously. "
   ]
  },
  {
   "cell_type": "code",
   "execution_count": 5,
   "metadata": {},
   "outputs": [
    {
     "name": "stdout",
     "output_type": "stream",
     "text": [
      "Most common tokens: [('to', 14168), ('in', 13332), ('the', 11661), ('s', 9499), ('of', 8099), ('for', 7642), ('a', 6109), ('on', 5325), ('and', 4892), ('with', 3737)]\n"
     ]
    }
   ],
   "source": [
    "import re\n",
    "from collections import Counter\n",
    "\n",
    "def tokenize_title(title):\n",
    "    # Basic lowercase + remove punctuation\n",
    "    return re.findall(r\"\\w+\", title.lower())\n",
    "\n",
    "# Build vocab from titles\n",
    "word_counter = Counter()\n",
    "\n",
    "news_title_dict = {}\n",
    "for _, row in news_df.iterrows():\n",
    "    news_id = row['NewsID']\n",
    "    tokens = tokenize_title(row['Title'])\n",
    "    news_title_dict[news_id] = tokens\n",
    "    word_counter.update(tokens)\n",
    "\n",
    "# Show most common words\n",
    "print(\"Most common tokens:\", word_counter.most_common(10))\n"
   ]
  },
  {
   "cell_type": "code",
   "execution_count": 6,
   "metadata": {},
   "outputs": [
    {
     "name": "stdout",
     "output_type": "stream",
     "text": [
      "Vocabulary size: 31023\n",
      "Embedding matrix shape: (31024, 100)\n"
     ]
    }
   ],
   "source": [
    "ENTITY_EMBEDDINGS_PATH = \"/Users/anuj/Downloads/MINDsmall_train/entity_embedding.vec\"\n",
    "EMBEDDING_DIM = 100  # Update this if entity_embeddings.vec uses a different dimension\n",
    "\n",
    "def load_entity_embeddings(embedding_path, word_counter, embedding_dim=100, min_freq=1):\n",
    "    vocab = [word for word, freq in word_counter.items() if freq >= min_freq]\n",
    "    word2idx = {word: idx + 1 for idx, word in enumerate(vocab)}  # Reserve 0 for padding\n",
    "    idx2word = {idx: word for word, idx in word2idx.items()}\n",
    "\n",
    "    embeddings_index = {}\n",
    "    with open(embedding_path, 'r', encoding='utf-8') as f:\n",
    "        for line in f:\n",
    "            parts = line.strip().split()\n",
    "            if len(parts) <= embedding_dim:\n",
    "                continue  # Skip malformed lines\n",
    "            word = parts[0]\n",
    "            vector = np.asarray(parts[1:], dtype='float32')\n",
    "            embeddings_index[word] = vector\n",
    "\n",
    "    # Create embedding matrix\n",
    "    embedding_matrix = np.zeros((len(word2idx) + 1, embedding_dim))\n",
    "    for word, idx in word2idx.items():\n",
    "        embedding_vector = embeddings_index.get(word)\n",
    "        if embedding_vector is not None:\n",
    "            embedding_matrix[idx] = embedding_vector\n",
    "        else:\n",
    "            # Random init if word not in the entity embeddings\n",
    "            embedding_matrix[idx] = np.random.normal(scale=0.6, size=(embedding_dim,))\n",
    "\n",
    "    return word2idx, idx2word, embedding_matrix\n",
    "\n",
    "# Assuming `word_counter` is defined earlier in your code\n",
    "word2idx, idx2word, embedding_matrix = load_entity_embeddings(ENTITY_EMBEDDINGS_PATH, word_counter, EMBEDDING_DIM)\n",
    "\n",
    "print(f\"Vocabulary size: {len(word2idx)}\")\n",
    "print(f\"Embedding matrix shape: {embedding_matrix.shape}\")\n"
   ]
  },
  {
   "cell_type": "code",
   "execution_count": null,
   "metadata": {},
   "outputs": [
    {
     "name": "stdout",
     "output_type": "stream",
     "text": [
      "News ID: N55528\n",
      "Encoded title: [ 1  2  3  4  5  6  7  5  8  9 10  0  0  0  0  0  0  0  0  0]\n"
     ]
    },
    {
     "ename": "",
     "evalue": "",
     "output_type": "error",
     "traceback": [
      "\u001b[1;31mThe Kernel crashed while executing code in the current cell or a previous cell. \n",
      "\u001b[1;31mPlease review the code in the cell(s) to identify a possible cause of the failure. \n",
      "\u001b[1;31mClick <a href='https://aka.ms/vscodeJupyterKernelCrash'>here</a> for more info. \n",
      "\u001b[1;31mView Jupyter <a href='command:jupyter.viewOutput'>log</a> for further details."
     ]
    }
   ],
   "source": [
    "from tensorflow.keras.preprocessing.sequence import pad_sequences\n",
    "\n",
    "MAX_TITLE_LEN = 20  # As used in the original DKN setup\n",
    "\n",
    "# Convert titles to sequences of word indices\n",
    "def encode_titles(news_title_dict, word2idx, max_len=MAX_TITLE_LEN):\n",
    "    news_title_encoded = {}\n",
    "\n",
    "    for news_id, tokens in news_title_dict.items():\n",
    "        indices = [word2idx.get(word, 0) for word in tokens]  # 0 is for OOV/padding\n",
    "        padded_indices = pad_sequences([indices], maxlen=max_len, padding='post', truncating='post')[0]\n",
    "        news_title_encoded[news_id] = padded_indices\n",
    "\n",
    "    return news_title_encoded\n",
    "\n",
    "news_title_encoded = encode_titles(news_title_dict, word2idx)\n",
    "\n",
    "# Check a sample\n",
    "sample_id = list(news_title_encoded.keys())[0]\n",
    "print(f\"News ID: {sample_id}\")\n",
    "print(f\"Encoded title: {news_title_encoded[sample_id]}\")\n"
   ]
  },
  {
   "cell_type": "markdown",
   "metadata": {},
   "source": [
    "## Create hyper-parameters"
   ]
  },
  {
   "cell_type": "code",
   "execution_count": null,
   "metadata": {},
   "outputs": [],
   "source": [
    "MAX_HISTORY_LEN = 50  # As per DKN\n",
    "\n",
    "user_histories = []\n",
    "candidate_titles = []\n",
    "labels = []\n",
    "for history, candidate, label in training_samples:\n",
    "    # Encode user history as list of title sequences\n",
    "    encoded_history = [news_title_encoded.get(news_id, np.zeros(MAX_TITLE_LEN, dtype=int))\n",
    "                       for news_id in history]\n",
    "\n",
    "    # Pad/truncate to MAX_HISTORY_LEN\n",
    "    if len(encoded_history) < MAX_HISTORY_LEN:\n",
    "        pad_len = MAX_HISTORY_LEN - len(encoded_history)\n",
    "        encoded_history += [np.zeros(MAX_TITLE_LEN, dtype=int)] * pad_len\n",
    "    else:\n",
    "        encoded_history = encoded_history[:MAX_HISTORY_LEN]\n",
    "\n",
    "    # Convert to numpy array\n",
    "    encoded_history = np.array(encoded_history)\n",
    "\n",
    "    # Encode candidate\n",
    "    encoded_candidate = news_title_encoded.get(candidate, np.zeros(MAX_TITLE_LEN, dtype=int))\n",
    "\n",
    "    user_histories.append(encoded_history)\n",
    "    candidate_titles.append(encoded_candidate)\n",
    "    labels.append(label)\n",
    "\n",
    "user_histories = np.array(user_histories)\n",
    "candidate_titles = np.array(candidate_titles)\n",
    "labels = np.array(labels)\n",
    "\n",
    "print(\"user_histories shape:\", user_histories.shape)  # (num_samples, 50, 20)\n",
    "print(\"candidate_titles shape:\", candidate_titles.shape)  # (num_samples, 20)\n",
    "print(\"labels shape:\", labels.shape)  # (num_samples,)\n"
   ]
  },
  {
   "cell_type": "markdown",
   "metadata": {},
   "source": [
    "## Train the DKN model"
   ]
  },
  {
   "cell_type": "code",
   "execution_count": null,
   "metadata": {
    "scrolled": true
   },
   "outputs": [
    {
     "name": "stdout",
     "output_type": "stream",
     "text": [
      "Model: \"model_1\"\n",
      "__________________________________________________________________________________________________\n",
      " Layer (type)                Output Shape                 Param #   Connected to                  \n",
      "==================================================================================================\n",
      " user_history (InputLayer)   [(None, 50, 20)]             0         []                            \n",
      "                                                                                                  \n",
      " tf.reshape (TFOpLambda)     (None, 20)                   0         ['user_history[0][0]']        \n",
      "                                                                                                  \n",
      " candidate (InputLayer)      [(None, 20)]                 0         []                            \n",
      "                                                                                                  \n",
      " model (Functional)          (None, 100)                  3132500   ['tf.reshape[0][0]',          \n",
      "                                                                     'candidate[0][0]']           \n",
      "                                                                                                  \n",
      " tf.reshape_1 (TFOpLambda)   (None, 50, 100)              0         ['model[0][0]']               \n",
      "                                                                                                  \n",
      " tf.expand_dims (TFOpLambda  (None, 1, 100)               0         ['model[1][0]']               \n",
      " )                                                                                                \n",
      "                                                                                                  \n",
      " tf.math.multiply (TFOpLamb  (None, 50, 100)              0         ['tf.reshape_1[0][0]',        \n",
      " da)                                                                 'tf.expand_dims[0][0]']      \n",
      "                                                                                                  \n",
      " tf.math.reduce_sum (TFOpLa  (None, 50)                   0         ['tf.math.multiply[0][0]']    \n",
      " mbda)                                                                                            \n",
      "                                                                                                  \n",
      " tf.nn.softmax (TFOpLambda)  (None, 50)                   0         ['tf.math.reduce_sum[0][0]']  \n",
      "                                                                                                  \n",
      " tf.expand_dims_1 (TFOpLamb  (None, 50, 1)                0         ['tf.nn.softmax[0][0]']       \n",
      " da)                                                                                              \n",
      "                                                                                                  \n",
      " tf.math.multiply_1 (TFOpLa  (None, 50, 100)              0         ['tf.reshape_1[0][0]',        \n",
      " mbda)                                                               'tf.expand_dims_1[0][0]']    \n",
      "                                                                                                  \n",
      " tf.math.reduce_sum_1 (TFOp  (None, 100)                  0         ['tf.math.multiply_1[0][0]']  \n",
      " Lambda)                                                                                          \n",
      "                                                                                                  \n",
      " concatenate (Concatenate)   (None, 200)                  0         ['tf.math.reduce_sum_1[0][0]',\n",
      "                                                                     'model[1][0]']               \n",
      "                                                                                                  \n",
      " dropout (Dropout)           (None, 200)                  0         ['concatenate[0][0]']         \n",
      "                                                                                                  \n",
      " dense (Dense)               (None, 1)                    201       ['dropout[0][0]']             \n",
      "                                                                                                  \n",
      "==================================================================================================\n",
      "Total params: 3132701 (11.95 MB)\n",
      "Trainable params: 30301 (118.36 KB)\n",
      "Non-trainable params: 3102400 (11.83 MB)\n",
      "__________________________________________________________________________________________________\n"
     ]
    },
    {
     "ename": "",
     "evalue": "",
     "output_type": "error",
     "traceback": [
      "\u001b[1;31mThe Kernel crashed while executing code in the current cell or a previous cell. \n",
      "\u001b[1;31mPlease review the code in the cell(s) to identify a possible cause of the failure. \n",
      "\u001b[1;31mClick <a href='https://aka.ms/vscodeJupyterKernelCrash'>here</a> for more info. \n",
      "\u001b[1;31mView Jupyter <a href='command:jupyter.viewOutput'>log</a> for further details."
     ]
    }
   ],
   "source": [
    "import tensorflow as tf\n",
    "from tensorflow.keras import Model, Input\n",
    "from tensorflow.keras.layers import Embedding, Conv1D, GlobalMaxPooling1D, Dense, Dot, Activation, Concatenate, Dropout, Softmax, Multiply, Lambda\n",
    "\n",
    "# Constants\n",
    "MAX_HISTORY_LEN = 50\n",
    "MAX_TITLE_LEN = 20\n",
    "EMBEDDING_DIM = embedding_matrix.shape[1]\n",
    "FILTER_NUM = 100\n",
    "WINDOW_SIZE = 3\n",
    "\n",
    "# Shared embedding + CNN encoder for titles\n",
    "def build_title_encoder():\n",
    "    title_input = Input(shape=(MAX_TITLE_LEN,), dtype='int32')  # (None, 20)\n",
    "    \n",
    "    embedding_layer = Embedding(\n",
    "        input_dim=embedding_matrix.shape[0],\n",
    "        output_dim=EMBEDDING_DIM,\n",
    "        weights=[embedding_matrix],\n",
    "        input_length=MAX_TITLE_LEN,\n",
    "        trainable=False\n",
    "    )\n",
    "\n",
    "    embedded_title = embedding_layer(title_input)  # (None, 20, 100)\n",
    "    \n",
    "    conv = Conv1D(filters=FILTER_NUM, kernel_size=WINDOW_SIZE, activation='relu')(embedded_title)\n",
    "    pooled = GlobalMaxPooling1D()(conv)  # (None, 100)\n",
    "\n",
    "    model = Model(inputs=title_input, outputs=pooled)\n",
    "    return model\n",
    "\n",
    "# Instantiate encoder\n",
    "title_encoder = build_title_encoder()\n",
    "\n",
    "# Input layers\n",
    "user_history_input = Input(shape=(MAX_HISTORY_LEN, MAX_TITLE_LEN), dtype='int32', name='user_history')  # (None, 50, 20)\n",
    "candidate_input = Input(shape=(MAX_TITLE_LEN,), dtype='int32', name='candidate')  # (None, 20)\n",
    "\n",
    "# Encode user history (each of 50 titles)\n",
    "user_history_reshaped = tf.reshape(user_history_input, [-1, MAX_TITLE_LEN])  # (None*50, 20)\n",
    "user_encoded = title_encoder(user_history_reshaped)  # (None*50, 100)\n",
    "user_encoded = tf.reshape(user_encoded, [-1, MAX_HISTORY_LEN, FILTER_NUM])  # (None, 50, 100)\n",
    "\n",
    "# Encode candidate\n",
    "candidate_encoded = title_encoder(candidate_input)  # (None, 100)\n",
    "candidate_expanded = tf.expand_dims(candidate_encoded, axis=1)  # (None, 1, 100)\n",
    "\n",
    "# Attention mechanism (dot-product + softmax)\n",
    "attention_scores = tf.reduce_sum(user_encoded * candidate_expanded, axis=-1)  # (None, 50)\n",
    "attention_weights = tf.nn.softmax(attention_scores, axis=-1)  # (None, 50)\n",
    "\n",
    "# Weighted sum over user history\n",
    "attention_weights_expanded = tf.expand_dims(attention_weights, axis=-1)  # (None, 50, 1)\n",
    "user_vector = tf.reduce_sum(user_encoded * attention_weights_expanded, axis=1)  # (None, 100)\n",
    "\n",
    "# Concatenate user vector and candidate vector\n",
    "final_vector = Concatenate()([user_vector, candidate_encoded])  # (None, 200)\n",
    "final_vector = Dropout(0.2)(final_vector)\n",
    "output = Dense(1, activation='sigmoid')(final_vector)\n",
    "\n",
    "# Build model\n",
    "dkn_model = Model(inputs=[user_history_input, candidate_input], outputs=output)\n",
    "dkn_model.compile(optimizer='adam', loss='binary_crossentropy', metrics=['AUC'])\n",
    "\n",
    "dkn_model.summary()\n"
   ]
  },
  {
   "cell_type": "code",
   "execution_count": null,
   "metadata": {
    "scrolled": true
   },
   "outputs": [
    {
     "name": "stdout",
     "output_type": "stream",
     "text": [
      "Epoch 1/3\n",
      "82173/82174 [============================>.] - ETA: 0s - loss: 0.1622 - auc: 0.6597"
     ]
    }
   ],
   "source": [
    "BATCH_SIZE = 4  \n",
    "EPOCHS = 3  # Start small—can increase later\n",
    "\n",
    "history = dkn_model.fit(\n",
    "    x=[user_histories, candidate_titles],\n",
    "    y=labels,\n",
    "    batch_size=BATCH_SIZE,\n",
    "    epochs=EPOCHS,\n",
    "    validation_split=0.1,\n",
    "    verbose=1\n",
    ")\n"
   ]
  },
  {
   "cell_type": "markdown",
   "metadata": {},
   "source": [
    "## Evaluate the DKN model"
   ]
  },
  {
   "cell_type": "code",
   "execution_count": null,
   "metadata": {},
   "outputs": [
    {
     "ename": "NameError",
     "evalue": "name 'history' is not defined",
     "output_type": "error",
     "traceback": [
      "\u001b[31m---------------------------------------------------------------------------\u001b[39m",
      "\u001b[31mNameError\u001b[39m                                 Traceback (most recent call last)",
      "\u001b[36mCell\u001b[39m\u001b[36m \u001b[39m\u001b[32mIn[1]\u001b[39m\u001b[32m, line 27\u001b[39m\n\u001b[32m     24\u001b[39m     plt.tight_layout()\n\u001b[32m     25\u001b[39m     plt.show()\n\u001b[32m---> \u001b[39m\u001b[32m27\u001b[39m plot_training_history(\u001b[43mhistory\u001b[49m)\n",
      "\u001b[31mNameError\u001b[39m: name 'history' is not defined"
     ]
    }
   ],
   "source": [
    "import matplotlib.pyplot as plt\n",
    "\n",
    "def plot_training_history(history):\n",
    "    # Plot loss\n",
    "    plt.figure(figsize=(12, 5))\n",
    "    \n",
    "    plt.subplot(1, 2, 1)\n",
    "    plt.plot(history.history['loss'], label='Train Loss')\n",
    "    plt.plot(history.history['val_loss'], label='Val Loss')\n",
    "    plt.title('Loss over Epochs')\n",
    "    plt.xlabel('Epoch')\n",
    "    plt.ylabel('Binary Crossentropy Loss')\n",
    "    plt.legend()\n",
    "\n",
    "    # Plot AUC\n",
    "    plt.subplot(1, 2, 2)\n",
    "    plt.plot(history.history['auc'], label='Train AUC')\n",
    "    plt.plot(history.history['val_auc'], label='Val AUC')\n",
    "    plt.title('AUC over Epochs')\n",
    "    plt.xlabel('Epoch')\n",
    "    plt.ylabel('AUC')\n",
    "    plt.legend()\n",
    "\n",
    "    plt.tight_layout()\n",
    "    plt.show()\n",
    "\n",
    "plot_training_history(history)\n"
   ]
  },
  {
   "cell_type": "code",
   "execution_count": null,
   "metadata": {},
   "outputs": [
    {
     "data": {
      "application/scrapbook.scrap.json+json": {
       "data": {
        "auc": 0.645,
        "group_auc": 0.6217,
        "mean_mrr": 0.2857,
        "ndcg@10": 0.3736,
        "ndcg@5": 0.3081
       },
       "encoder": "json",
       "name": "res",
       "version": 1
      }
     },
     "metadata": {
      "scrapbook": {
       "data": true,
       "display": false,
       "name": "res"
      }
     },
     "output_type": "display_data"
    }
   ],
   "source": [
    "import pandas as pd\n",
    "\n",
    "# Paths to MINDsmall_dev set\n",
    "DEV_BEHAVIORS_PATH = \"/Users/anuj/Downloads/MINDsmall_dev/behaviors.tsv\"\n",
    "DEV_NEWS_PATH = \"/Users/anuj/Downloads/MINDsmall_dev/news.tsv\"\n",
    "\n",
    "# Load dev behaviors\n",
    "dev_behaviors = pd.read_csv(\n",
    "    DEV_BEHAVIORS_PATH, sep='\\t', header=None,\n",
    "    names=['ImpressionID', 'UserID', 'Time', 'History', 'Impressions']\n",
    ")\n",
    "\n",
    "# Load dev news\n",
    "dev_news = pd.read_csv(\n",
    "    DEV_NEWS_PATH, sep='\\t', header=None,\n",
    "    names=['NewsID', 'Category', 'SubCategory', 'Title', 'Abstract', 'URL', 'TitleEntities', 'AbstractEntities']\n",
    ")\n",
    "\n",
    "print(f\"Dev behaviors: {dev_behaviors.shape}\")\n",
    "print(f\"Dev news: {dev_news.shape}\")\n"
   ]
  },
  {
   "cell_type": "markdown",
   "metadata": {},
   "source": [
    "## Document embedding inference API\n",
    "\n",
    "After training, you can get document embedding through this document embedding inference API. The input file format is same with document feature file. The output file fomrat is: `[Newsid] [embedding]`"
   ]
  },
  {
   "cell_type": "code",
   "execution_count": null,
   "metadata": {},
   "outputs": [
    {
     "data": {
      "text/plain": [
       "<reco_utils.recommender.deeprec.models.dkn.DKN at 0x7fe60850deb8>"
      ]
     },
     "execution_count": 13,
     "metadata": {},
     "output_type": "execute_result"
    }
   ],
   "source": [
    "# Tokenize and pad dev news titles using existing word2idx\n",
    "def preprocess_news_titles(news_df, word2idx, max_len):\n",
    "    tokenized_titles = []\n",
    "    news_id_list = []\n",
    "    \n",
    "    for _, row in news_df.iterrows():\n",
    "        news_id = row['NewsID']\n",
    "        title = str(row['Title']).lower()\n",
    "        tokens = re.findall(r'\\w+', title)\n",
    "        token_indices = [word2idx.get(word, 0) for word in tokens]\n",
    "        if len(token_indices) < max_len:\n",
    "            token_indices += [0] * (max_len - len(token_indices))\n",
    "        else:\n",
    "            token_indices = token_indices[:max_len]\n",
    "        tokenized_titles.append(token_indices)\n",
    "        news_id_list.append(news_id)\n",
    "    \n",
    "    return dict(zip(news_id_list, tokenized_titles))\n",
    "\n",
    "dev_news_encoded = preprocess_news_titles(dev_news, word2idx, MAX_TITLE_LEN)\n",
    "\n",
    "print(f\"Encoded {len(dev_news_encoded)} dev news articles\")\n"
   ]
  },
  {
   "cell_type": "markdown",
   "metadata": {},
   "source": [
    "## Results on large MIND dataset\n",
    "\n",
    "Here are performances using the large MIND dataset (1,000,000 users, 161,013 news articles and 15,777,377 impression logs). \n",
    "\n",
    "| Models | g-AUC | MRR |NDCG@5 | NDCG@10 |\n",
    "| :------| :------: | :------: | :------: | :------ |\n",
    "| LibFM | 0.5993 | 0.2823 | 0.3005 | 0.3574 |\n",
    "| Wide&Deep | 0.6216 | 0.2931 | 0.3138 | 0.3712 |\n",
    "| DKN | 0.6436 | 0.3128 | 0.3371 | 0.3908|\n",
    "\n",
    "\n",
    "Note that the results of DKN are using Microsoft recommender and the results of the first two models come from the MIND paper \\[3\\].\n",
    "We compare the results on the same test dataset. \n",
    "\n",
    "One epoch takes 6381.3s (5066.6s for training, 1314.7s for evaluating) for DKN on GPU. Hardware specification for running the large dataset: <br>\n",
    "GPU: Tesla P100-PCIE-16GB <br>\n",
    "CPU: 6 cores Intel(R) Xeon(R) CPU E5-2690 v4 @ 2.60GHz"
   ]
  },
  {
   "cell_type": "markdown",
   "metadata": {},
   "source": [
    "## References\n",
    "\n",
    "\\[1\\] Wang, Hongwei, et al. \"DKN: Deep Knowledge-Aware Network for News Recommendation.\" Proceedings of the 2018 World Wide Web Conference on World Wide Web. International World Wide Web Conferences Steering Committee, 2018.<br>\n",
    "\\[2\\] Knowledge Graph Embeddings including TransE, TransH, TransR and PTransE. https://github.com/thunlp/KB2E <br>\n",
    "\\[3\\] Wu, Fangzhao, et al. \"MIND: A Large-scale Dataset for News Recommendation\" Proceedings of the 58th Annual Meeting of the Association for Computational Linguistics. https://msnews.github.io/competition.html <br>\n",
    "\\[4\\] GloVe: Global Vectors for Word Representation. https://nlp.stanford.edu/projects/glove/"
   ]
  },
  {
   "cell_type": "code",
   "execution_count": null,
   "metadata": {},
   "outputs": [
    {
     "name": "stdout",
     "output_type": "stream",
     "text": [
      "TF Version: 2.15.1\n",
      "GPU Available: []\n"
     ]
    },
    {
     "name": "stderr",
     "output_type": "stream",
     "text": [
      "WARNING:absl:At this time, the v2.11+ optimizer `tf.keras.optimizers.Adam` runs slowly on M1/M2 Macs, please use the legacy Keras optimizer instead, located at `tf.keras.optimizers.legacy.Adam`.\n"
     ]
    },
    {
     "name": "stdout",
     "output_type": "stream",
     "text": [
      "Model: \"model\"\n",
      "__________________________________________________________________________________________________\n",
      " Layer (type)                Output Shape                 Param #   Connected to                  \n",
      "==================================================================================================\n",
      " hist_input (InputLayer)     [(None, 50, 20)]             0         []                            \n",
      "                                                                                                  \n",
      " news_input (InputLayer)     [(None, 20)]                 0         []                            \n",
      "                                                                                                  \n",
      " embedding_1 (Embedding)     (None, 50, 20, 100)          5399200   ['hist_input[0][0]']          \n",
      "                                                                                                  \n",
      " embedding (Embedding)       (None, 20, 100)              5399200   ['news_input[0][0]']          \n",
      "                                                                                                  \n",
      " tf.math.reduce_mean_1 (TFO  (None, 50, 100)              0         ['embedding_1[0][0]']         \n",
      " pLambda)                                                                                         \n",
      "                                                                                                  \n",
      " tf.math.reduce_mean (TFOpL  (None, 100)                  0         ['embedding[0][0]']           \n",
      " ambda)                                                                                           \n",
      "                                                                                                  \n",
      " dot (Dot)                   (None, 50)                   0         ['tf.math.reduce_mean[0][0]', \n",
      "                                                                     'tf.math.reduce_mean_1[0][0]'\n",
      "                                                                    ]                             \n",
      "                                                                                                  \n",
      " tf.nn.softmax (TFOpLambda)  (None, 50)                   0         ['dot[0][0]']                 \n",
      "                                                                                                  \n",
      " tf.expand_dims (TFOpLambda  (None, 50, 1)                0         ['tf.nn.softmax[0][0]']       \n",
      " )                                                                                                \n",
      "                                                                                                  \n",
      " tf.math.multiply (TFOpLamb  (None, 50, 100)              0         ['tf.math.reduce_mean_1[0][0]'\n",
      " da)                                                                , 'tf.expand_dims[0][0]']     \n",
      "                                                                                                  \n",
      " tf.math.reduce_sum (TFOpLa  (None, 100)                  0         ['tf.math.multiply[0][0]']    \n",
      " mbda)                                                                                            \n",
      "                                                                                                  \n",
      " concatenate (Concatenate)   (None, 200)                  0         ['tf.math.reduce_sum[0][0]',  \n",
      "                                                                     'tf.math.reduce_mean[0][0]'] \n",
      "                                                                                                  \n",
      " dense (Dense)               (None, 128)                  25728     ['concatenate[0][0]']         \n",
      "                                                                                                  \n",
      " dropout (Dropout)           (None, 128)                  0         ['dense[0][0]']               \n",
      "                                                                                                  \n",
      " dense_1 (Dense)             (None, 1)                    129       ['dropout[0][0]']             \n",
      "                                                                                                  \n",
      "==================================================================================================\n",
      "Total params: 10824257 (41.29 MB)\n",
      "Trainable params: 25857 (101.00 KB)\n",
      "Non-trainable params: 10798400 (41.19 MB)\n",
      "__________________________________________________________________________________________________\n"
     ]
    },
    {
     "ename": "",
     "evalue": "",
     "output_type": "error",
     "traceback": [
      "\u001b[1;31mThe Kernel crashed while executing code in the current cell or a previous cell. \n",
      "\u001b[1;31mPlease review the code in the cell(s) to identify a possible cause of the failure. \n",
      "\u001b[1;31mClick <a href='https://aka.ms/vscodeJupyterKernelCrash'>here</a> for more info. \n",
      "\u001b[1;31mView Jupyter <a href='command:jupyter.viewOutput'>log</a> for further details."
     ]
    }
   ],
   "source": [
    "def create_eval_samples(dev_behaviors_df, news_encoded, max_history_len):\n",
    "    user_histories = []\n",
    "    candidate_news = []\n",
    "    labels = []\n",
    "    impression_ids = []\n",
    "\n",
    "    for _, row in dev_behaviors_df.iterrows():\n",
    "        history_ids = str(row['History']).split() if pd.notna(row['History']) else []\n",
    "        history_titles = [news_encoded.get(nid, [0] * MAX_TITLE_LEN) for nid in history_ids]\n",
    "        if len(history_titles) < max_history_len:\n",
    "            history_titles += [[0] * MAX_TITLE_LEN] * (max_history_len - len(history_titles))\n",
    "        else:\n",
    "            history_titles = history_titles[:max_history_len]\n",
    "\n",
    "        impressions = str(row['Impressions']).split()\n",
    "        for imp in impressions:\n",
    "            if '-' not in imp:\n",
    "                continue\n",
    "            news_id, label = imp.split('-')\n",
    "            candidate_title = news_encoded.get(news_id, [0] * MAX_TITLE_LEN)\n",
    "\n",
    "            user_histories.append(history_titles)\n",
    "            candidate_news.append(candidate_title)\n",
    "            labels.append(int(label))\n",
    "            impression_ids.append(row['ImpressionID'])\n",
    "\n",
    "    return np.array(user_histories), np.array(candidate_news), np.array(labels), impression_ids\n",
    "\n",
    "max_history_len = 50  # Same as during training\n",
    "\n",
    "eval_user_histories, eval_candidate_titles, eval_labels, eval_impression_ids = create_eval_samples(\n",
    "    dev_behaviors, dev_news_encoded, max_history_len\n",
    ")\n",
    "\n",
    "print(f\"Evaluation samples: {len(eval_labels)}\")\n"
   ]
  },
  {
   "cell_type": "code",
   "execution_count": null,
   "metadata": {},
   "outputs": [],
   "source": []
  }
 ],
 "metadata": {
  "celltoolbar": "Tags",
  "kernelspec": {
   "display_name": "Python 3",
   "language": "python",
   "name": "python3"
  },
  "language_info": {
   "codemirror_mode": {
    "name": "ipython",
    "version": 3
   },
   "file_extension": ".py",
   "mimetype": "text/x-python",
   "name": "python",
   "nbconvert_exporter": "python",
   "pygments_lexer": "ipython3",
   "version": "3.11.9"
  }
 },
 "nbformat": 4,
 "nbformat_minor": 4
}
